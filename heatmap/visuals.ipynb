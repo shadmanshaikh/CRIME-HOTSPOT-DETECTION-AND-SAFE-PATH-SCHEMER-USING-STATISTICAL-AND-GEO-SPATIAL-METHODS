{
 "cells": [
  {
   "cell_type": "code",
   "execution_count": 1,
   "metadata": {},
   "outputs": [],
   "source": [
    "import pandas as pd\n",
    "import numpy as np\n",
    "%matplotlib inline\n",
    "import warnings\n",
    "warnings.filterwarnings('ignore')\n"
   ]
  },
  {
   "cell_type": "code",
   "execution_count": 2,
   "metadata": {},
   "outputs": [
    {
     "data": {
      "text/html": [
       "<div>\n",
       "<style scoped>\n",
       "    .dataframe tbody tr th:only-of-type {\n",
       "        vertical-align: middle;\n",
       "    }\n",
       "\n",
       "    .dataframe tbody tr th {\n",
       "        vertical-align: top;\n",
       "    }\n",
       "\n",
       "    .dataframe thead th {\n",
       "        text-align: right;\n",
       "    }\n",
       "</style>\n",
       "<table border=\"1\" class=\"dataframe\">\n",
       "  <thead>\n",
       "    <tr style=\"text-align: right;\">\n",
       "      <th></th>\n",
       "      <th>nm_pol</th>\n",
       "      <th>murder</th>\n",
       "      <th>rape</th>\n",
       "      <th>gangrape</th>\n",
       "      <th>robbery</th>\n",
       "      <th>theft</th>\n",
       "      <th>assualt murders</th>\n",
       "      <th>sexual harassement</th>\n",
       "      <th>totarea</th>\n",
       "      <th>totalcrime</th>\n",
       "      <th>long</th>\n",
       "      <th>lat</th>\n",
       "      <th>crime/area</th>\n",
       "      <th>area</th>\n",
       "    </tr>\n",
       "  </thead>\n",
       "  <tbody>\n",
       "    <tr>\n",
       "      <th>0</th>\n",
       "      <td>CHITRANJAN PARK</td>\n",
       "      <td>2</td>\n",
       "      <td>6</td>\n",
       "      <td>1</td>\n",
       "      <td>35</td>\n",
       "      <td>442</td>\n",
       "      <td>19</td>\n",
       "      <td>7</td>\n",
       "      <td>2659329.537</td>\n",
       "      <td>512</td>\n",
       "      <td>77.24920</td>\n",
       "      <td>28.53632</td>\n",
       "      <td>192.529731</td>\n",
       "      <td>2.659330</td>\n",
       "    </tr>\n",
       "    <tr>\n",
       "      <th>1</th>\n",
       "      <td>DABRI</td>\n",
       "      <td>8</td>\n",
       "      <td>28</td>\n",
       "      <td>0</td>\n",
       "      <td>79</td>\n",
       "      <td>240</td>\n",
       "      <td>26</td>\n",
       "      <td>16</td>\n",
       "      <td>3401013.428</td>\n",
       "      <td>397</td>\n",
       "      <td>77.08600</td>\n",
       "      <td>28.61268</td>\n",
       "      <td>116.729912</td>\n",
       "      <td>3.401013</td>\n",
       "    </tr>\n",
       "    <tr>\n",
       "      <th>2</th>\n",
       "      <td>MALVIYA NAGAR</td>\n",
       "      <td>3</td>\n",
       "      <td>28</td>\n",
       "      <td>1</td>\n",
       "      <td>33</td>\n",
       "      <td>694</td>\n",
       "      <td>63</td>\n",
       "      <td>15</td>\n",
       "      <td>1379853.572</td>\n",
       "      <td>837</td>\n",
       "      <td>77.20418</td>\n",
       "      <td>28.52989</td>\n",
       "      <td>606.586102</td>\n",
       "      <td>1.379854</td>\n",
       "    </tr>\n",
       "    <tr>\n",
       "      <th>3</th>\n",
       "      <td>CHANDNI MAHAL</td>\n",
       "      <td>1</td>\n",
       "      <td>8</td>\n",
       "      <td>1</td>\n",
       "      <td>23</td>\n",
       "      <td>529</td>\n",
       "      <td>19</td>\n",
       "      <td>7</td>\n",
       "      <td>5570696.132</td>\n",
       "      <td>588</td>\n",
       "      <td>77.23608</td>\n",
       "      <td>28.64361</td>\n",
       "      <td>105.552338</td>\n",
       "      <td>5.570696</td>\n",
       "    </tr>\n",
       "    <tr>\n",
       "      <th>4</th>\n",
       "      <td>MODEL TOWN</td>\n",
       "      <td>0</td>\n",
       "      <td>4</td>\n",
       "      <td>1</td>\n",
       "      <td>45</td>\n",
       "      <td>393</td>\n",
       "      <td>9</td>\n",
       "      <td>14</td>\n",
       "      <td>2689157.085</td>\n",
       "      <td>466</td>\n",
       "      <td>77.19369</td>\n",
       "      <td>28.70257</td>\n",
       "      <td>173.288501</td>\n",
       "      <td>2.689157</td>\n",
       "    </tr>\n",
       "  </tbody>\n",
       "</table>\n",
       "</div>"
      ],
      "text/plain": [
       "            nm_pol  murder  rape  gangrape  robbery  theft  assualt murders  \\\n",
       "0  CHITRANJAN PARK       2     6         1       35    442               19   \n",
       "1            DABRI       8    28         0       79    240               26   \n",
       "2    MALVIYA NAGAR       3    28         1       33    694               63   \n",
       "3    CHANDNI MAHAL       1     8         1       23    529               19   \n",
       "4       MODEL TOWN       0     4         1       45    393                9   \n",
       "\n",
       "   sexual harassement      totarea  totalcrime      long       lat  \\\n",
       "0                   7  2659329.537         512  77.24920  28.53632   \n",
       "1                  16  3401013.428         397  77.08600  28.61268   \n",
       "2                  15  1379853.572         837  77.20418  28.52989   \n",
       "3                   7  5570696.132         588  77.23608  28.64361   \n",
       "4                  14  2689157.085         466  77.19369  28.70257   \n",
       "\n",
       "   crime/area      area  \n",
       "0  192.529731  2.659330  \n",
       "1  116.729912  3.401013  \n",
       "2  606.586102  1.379854  \n",
       "3  105.552338  5.570696  \n",
       "4  173.288501  2.689157  "
      ]
     },
     "execution_count": 2,
     "metadata": {},
     "output_type": "execute_result"
    }
   ],
   "source": [
    "df = pd.read_csv('crime.csv')\n",
    "df.head()"
   ]
  },
  {
   "cell_type": "code",
   "execution_count": 4,
   "metadata": {},
   "outputs": [
    {
     "ename": "ModuleNotFoundError",
     "evalue": "No module named 'autoviz'",
     "output_type": "error",
     "traceback": [
      "\u001b[1;31m---------------------------------------------------------------------------\u001b[0m",
      "\u001b[1;31mModuleNotFoundError\u001b[0m                       Traceback (most recent call last)",
      "\u001b[1;32mc:\\Users\\XAN\\Documents\\FYP\\Crime-Rate-Prediction--K-means-Algorithm\\heatmap\\visuals.ipynb Cell 3\u001b[0m in \u001b[0;36m<cell line: 1>\u001b[1;34m()\u001b[0m\n\u001b[1;32m----> <a href='vscode-notebook-cell:/c%3A/Users/XAN/Documents/FYP/Crime-Rate-Prediction--K-means-Algorithm/heatmap/visuals.ipynb#W2sZmlsZQ%3D%3D?line=0'>1</a>\u001b[0m \u001b[39mfrom\u001b[39;00m \u001b[39mautoviz\u001b[39;00m\u001b[39m.\u001b[39;00m\u001b[39mAutoViz_Class\u001b[39;00m \u001b[39mimport\u001b[39;00m AutoViz_Class\n",
      "\u001b[1;31mModuleNotFoundError\u001b[0m: No module named 'autoviz'"
     ]
    }
   ],
   "source": [
    "from autoviz.AutoViz_Class import AutoViz_Class"
   ]
  },
  {
   "cell_type": "code",
   "execution_count": 6,
   "metadata": {},
   "outputs": [
    {
     "ename": "ModuleNotFoundError",
     "evalue": "No module named 'autoviz'",
     "output_type": "error",
     "traceback": [
      "\u001b[1;31m---------------------------------------------------------------------------\u001b[0m",
      "\u001b[1;31mModuleNotFoundError\u001b[0m                       Traceback (most recent call last)",
      "\u001b[1;32mc:\\Users\\XAN\\Documents\\FYP\\Crime-Rate-Prediction--K-means-Algorithm\\heatmap\\visuals.ipynb Cell 4\u001b[0m in \u001b[0;36m<cell line: 1>\u001b[1;34m()\u001b[0m\n\u001b[1;32m----> <a href='vscode-notebook-cell:/c%3A/Users/XAN/Documents/FYP/Crime-Rate-Prediction--K-means-Algorithm/heatmap/visuals.ipynb#W3sZmlsZQ%3D%3D?line=0'>1</a>\u001b[0m \u001b[39mfrom\u001b[39;00m \u001b[39mautoviz\u001b[39;00m\u001b[39m.\u001b[39;00m\u001b[39mAutoViz_Class\u001b[39;00m \u001b[39mimport\u001b[39;00m AutoViz_Class\n",
      "\u001b[1;31mModuleNotFoundError\u001b[0m: No module named 'autoviz'"
     ]
    }
   ],
   "source": [
    "from autoviz.AutoViz_Class import AutoViz_Class\n"
   ]
  }
 ],
 "metadata": {
  "kernelspec": {
   "display_name": "Python 3",
   "language": "python",
   "name": "python3"
  },
  "language_info": {
   "codemirror_mode": {
    "name": "ipython",
    "version": 3
   },
   "file_extension": ".py",
   "mimetype": "text/x-python",
   "name": "python",
   "nbconvert_exporter": "python",
   "pygments_lexer": "ipython3",
   "version": "3.9.13"
  },
  "orig_nbformat": 4
 },
 "nbformat": 4,
 "nbformat_minor": 2
}
